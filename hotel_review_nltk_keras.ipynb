{
 "cells": [
  {
   "cell_type": "markdown",
   "metadata": {},
   "source": [
    "<h1 style=\"font-family: Impact, Charcoal, sans-serif; padding: 12px; font-size: 30px; color: #8b4513; text-align: center; line-height: 1.25;\">Sentiment Analysis<br><span style=\"color: #800000; font-size: 48px\"><b>TripAdvisor Hotel Reviews</b></span><br><span style=\"color: #a0522d; font-size: 20px\">Using Sklearn and Tensorflow</span></h1>\n",
    "\n",
    "<div style=\"display: flex; justify-content: center;\">\n",
    "  <img src=\"assets/review.png\" alt=\"Hotel Review\" style=\"width:200px;\">\n",
    "</div>\n",
    "\n",
    "<p>Data source: <a href=\"https://www.kaggle.com/datasets/thedevastator/tripadvisor-hotel-reviews\">TripAdvisor Hotel Reviews</a></p>\n"
   ]
  },
  {
   "cell_type": "markdown",
   "metadata": {},
   "source": [
    "<a id=\"6\"></a>\n",
    "<h1><b><span style=\"color: #8b4513; font-size: 28px\">Building Model with Tensorflow</span></b></h1>"
   ]
  },
  {
   "cell_type": "code",
   "execution_count": null,
   "metadata": {},
   "outputs": [],
   "source": [
    "import tensorflow as tf\n",
    "from keras.preprocessing.text import Tokenizer\n",
    "from keras.preprocessing.sequence import pad_sequences\n",
    "from keras.regularizers import l1, l2"
   ]
  },
  {
   "cell_type": "code",
   "execution_count": null,
   "metadata": {},
   "outputs": [],
   "source": [
    "from sklearn.preprocessing import LabelBinarizer\n",
    "tokenizer = Tokenizer(num_words=50000, oov_token='<OOV>')\n",
    "\n",
    "tokenizer.fit_on_texts(X_train)\n",
    "# print(tokenizer.word_index)\n",
    "total_word = len(tokenizer.word_index)\n",
    "print('Total distinct words: {}'.format(total_word))\n",
    "\n",
    "train_seq = tokenizer.texts_to_sequences(X_train)\n",
    "train_padded = pad_sequences(train_seq)\n",
    "\n",
    "test_seq = tokenizer.texts_to_sequences(X_test)\n",
    "test_padded = pad_sequences(test_seq)\n",
    "\n",
    "# One hot encoding the label\n",
    "lb = LabelBinarizer()\n",
    "train_labels = lb.fit_transform(y_train)\n",
    "test_labels = lb.transform(y_test)"
   ]
  },
  {
   "cell_type": "code",
   "execution_count": null,
   "metadata": {},
   "outputs": [],
   "source": [
    "from sklearn.preprocessing import LabelBinarizer\n",
    "tokenizer = Tokenizer(num_words=50000, oov_token='<OOV>')\n",
    "\n",
    "tokenizer.fit_on_texts(X_train)\n",
    "# print(tokenizer.word_index)\n",
    "total_word = len(tokenizer.word_index)\n",
    "print('Total distinct words: {}'.format(total_word))\n",
    "\n",
    "train_seq = tokenizer.texts_to_sequences(X_train)\n",
    "train_padded = pad_sequences(train_seq)\n",
    "\n",
    "test_seq = tokenizer.texts_to_sequences(X_test)\n",
    "test_padded = pad_sequences(test_seq)\n",
    "\n",
    "# One hot encoding the label\n",
    "lb = LabelBinarizer()\n",
    "train_labels = lb.fit_transform(y_train)\n",
    "test_labels = lb.transform(y_test)"
   ]
  },
  {
   "cell_type": "code",
   "execution_count": null,
   "metadata": {},
   "outputs": [],
   "source": [
    "pickle.dump(tokenizer, open('tokenizer.pkl', 'wb'))\n",
    "pickle.dump(lb, open('label.pkl', 'wb'))"
   ]
  },
  {
   "cell_type": "code",
   "execution_count": null,
   "metadata": {},
   "outputs": [],
   "source": [
    "model = tf.keras.models.Sequential([tf.keras.layers.Embedding(total_word, 8),\n",
    "                                    tf.keras.layers.Conv1D(filters=64, kernel_size=3, activation='relu'),\n",
    "                                    tf.keras.layers.Bidirectional(tf.keras.layers.LSTM(64)),\n",
    "                                    tf.keras.layers.Dropout(0.5),\n",
    "                                    tf.keras.layers.Dense(64, kernel_regularizer=l2(0.001),\n",
    "                                                          bias_regularizer=l2(0.001), activation='relu'),\n",
    "                                    tf.keras.layers.Dense(3, activation='softmax')])\n",
    "\n",
    "model.summary()"
   ]
  },
  {
   "cell_type": "code",
   "execution_count": null,
   "metadata": {},
   "outputs": [],
   "source": [
    "model.compile(optimizer=tf.optimizers.Adam(learning_rate=0.0001), loss='categorical_crossentropy', metrics=['accuracy'])\n",
    "\n",
    "model.fit(train_padded, train_labels, epochs=25, validation_data=(test_padded, test_labels))"
   ]
  },
  {
   "cell_type": "code",
   "execution_count": null,
   "metadata": {},
   "outputs": [],
   "source": [
    "metrics = pd.DataFrame(model.history.history)\n",
    "metrics[['accuracy', 'val_accuracy']].plot()\n",
    "metrics[['loss', 'val_loss']].plot()"
   ]
  },
  {
   "cell_type": "code",
   "execution_count": null,
   "metadata": {},
   "outputs": [],
   "source": [
    "pred2 = model.predict(test_padded)"
   ]
  },
  {
   "cell_type": "code",
   "execution_count": null,
   "metadata": {},
   "outputs": [],
   "source": [
    "model.save('dl_model.h5')"
   ]
  },
  {
   "cell_type": "markdown",
   "metadata": {},
   "source": [
    "<a id=\"7\"></a>\n",
    "<h1><b><span style=\"color: #8b4513; font-size: 28px\">Predictions</span></b></h1>"
   ]
  },
  {
   "cell_type": "code",
   "execution_count": null,
   "metadata": {},
   "outputs": [],
   "source": [
    "# XGBoost\n",
    "def ml_predict(text):\n",
    "    text = clean_text(text)\n",
    "    tfid_matrix = tfid.transform([text])\n",
    "    pred = best_model.predict(tfid_matrix)[0]\n",
    "    \n",
    "    return pred\n",
    "\n",
    "# Deep Neural Network\n",
    "def dl_predict(text):\n",
    "    text = clean_text(text)\n",
    "    seq = tokenizer.texts_to_sequences([text])\n",
    "    padded = pad_sequences(seq)\n",
    "\n",
    "    pred = model.predict(padded)\n",
    "    # Get the label name back\n",
    "    result = lb.inverse_transform(pred)[0]\n",
    "    \n",
    "    return result"
   ]
  },
  {
   "cell_type": "code",
   "execution_count": null,
   "metadata": {},
   "outputs": [],
   "source": [
    "text = 'Such a comfy place to stay with the loved one'\n",
    "\n",
    "print('Prediction using XGBoost: {}'.format(ml_predict(text)))\n",
    "#print('Prediction using DNN: {}'.format(dl_predict(text)))"
   ]
  },
  {
   "cell_type": "code",
   "execution_count": null,
   "metadata": {},
   "outputs": [],
   "source": [
    "text2 = 'Awful room services and slow wifi connection'\n",
    "\n",
    "print('Prediction using XGBoost: {}'.format(ml_predict(text2)))\n",
    "#print('Prediction using DNN: {}'.format(dl_predict(text2)))"
   ]
  },
  {
   "cell_type": "code",
   "execution_count": null,
   "metadata": {},
   "outputs": [],
   "source": [
    "text3 = 'Hard to get here but the scenery is wonderful'\n",
    "\n",
    "print('Prediction using Logistic Regression: {}'.format(ml_predict(text3)))\n",
    "#print('Prediction using DNN: {}'.format(dl_predict(text3)))"
   ]
  }
 ],
 "metadata": {
  "kernelspec": {
   "display_name": "llsm",
   "language": "python",
   "name": "python3"
  },
  "language_info": {
   "codemirror_mode": {
    "name": "ipython",
    "version": 3
   },
   "file_extension": ".py",
   "mimetype": "text/x-python",
   "name": "python",
   "nbconvert_exporter": "python",
   "pygments_lexer": "ipython3",
   "version": "3.8.17"
  },
  "orig_nbformat": 4
 },
 "nbformat": 4,
 "nbformat_minor": 2
}
